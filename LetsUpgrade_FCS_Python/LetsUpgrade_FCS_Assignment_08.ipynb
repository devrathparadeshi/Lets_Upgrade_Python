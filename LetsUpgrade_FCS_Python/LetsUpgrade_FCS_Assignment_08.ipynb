{
 "cells": [
  {
   "cell_type": "code",
   "execution_count": 42,
   "metadata": {},
   "outputs": [
    {
     "name": "stdout",
     "output_type": "stream",
     "text": [
      "Enter the number in zero's and one's=11011011\n",
      "NO\n"
     ]
    }
   ],
   "source": [
    "n=input(\"Enter the number in zero's and one's=\"     )\n",
    "a=0\n",
    "b=0\n",
    "m=len(n)\n",
    "for i in range(0,m):\n",
    "    c=n[i]\n",
    "    if c==\"0\":\n",
    "        a=a+1\n",
    "    else:\n",
    "        b=b+1\n",
    "if a==1 or b==1:\n",
    "    print(\"YES\")\n",
    "else:\n",
    "    print(\"NO\")\n",
    "\n"
   ]
  },
  {
   "cell_type": "code",
   "execution_count": 43,
   "metadata": {},
   "outputs": [
    {
     "name": "stdout",
     "output_type": "stream",
     "text": [
      "Enter the number in zero's and one's=11101111\n",
      "YES\n"
     ]
    }
   ],
   "source": [
    "n=input(\"Enter the number in zero's and one's=\"     )\n",
    "a=0\n",
    "b=0\n",
    "m=len(n)\n",
    "for i in range(0,m):\n",
    "    c=n[i]\n",
    "    if c==\"0\":\n",
    "        a=a+1\n",
    "    else:\n",
    "        b=b+1\n",
    "if a==1 or b==1:\n",
    "    print(\"YES\")\n",
    "else:\n",
    "    print(\"NO\")\n"
   ]
  },
  {
   "cell_type": "code",
   "execution_count": 44,
   "metadata": {},
   "outputs": [
    {
     "name": "stdout",
     "output_type": "stream",
     "text": [
      "Enter the number in zero's and one's=00000100000\n",
      "YES\n"
     ]
    }
   ],
   "source": [
    "n=input(\"Enter the number in zero's and one's=\"     )\n",
    "a=0\n",
    "b=0\n",
    "m=len(n)\n",
    "for i in range(0,m):\n",
    "    c=n[i]\n",
    "    if c==\"0\":\n",
    "        a=a+1\n",
    "    else:\n",
    "        b=b+1\n",
    "if a==1 or b==1:\n",
    "    print(\"YES\")\n",
    "else:\n",
    "    print(\"NO\")\n"
   ]
  },
  {
   "cell_type": "code",
   "execution_count": null,
   "metadata": {},
   "outputs": [],
   "source": []
  }
 ],
 "metadata": {
  "kernelspec": {
   "display_name": "Python 3",
   "language": "python",
   "name": "python3"
  },
  "language_info": {
   "codemirror_mode": {
    "name": "ipython",
    "version": 3
   },
   "file_extension": ".py",
   "mimetype": "text/x-python",
   "name": "python",
   "nbconvert_exporter": "python",
   "pygments_lexer": "ipython3",
   "version": "3.7.6"
  }
 },
 "nbformat": 4,
 "nbformat_minor": 4
}
