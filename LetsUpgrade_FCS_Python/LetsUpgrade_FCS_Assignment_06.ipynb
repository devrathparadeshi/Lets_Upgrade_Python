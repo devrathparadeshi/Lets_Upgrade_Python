{
 "cells": [
  {
   "cell_type": "markdown",
   "metadata": {},
   "source": [
    " map(),lamba() are the inbuilt functions of python.\n",
    " "
   ]
  },
  {
   "cell_type": "markdown",
   "metadata": {},
   "source": [
    "# 1. map()-\n",
    "syntax:\n",
    "\n",
    "    map(func,iterables)"
   ]
  },
  {
   "cell_type": "code",
   "execution_count": 1,
   "metadata": {},
   "outputs": [
    {
     "name": "stdout",
     "output_type": "stream",
     "text": [
      "400\n"
     ]
    }
   ],
   "source": [
    "# without using map()\n",
    "def sqr(a):\n",
    "    return a*a\n",
    "x=sqr(20)\n",
    "print(x)"
   ]
  },
  {
   "cell_type": "code",
   "execution_count": 4,
   "metadata": {},
   "outputs": [
    {
     "name": "stdout",
     "output_type": "stream",
     "text": [
      "[4, 16, 25, 3249, 5776, 7744, 620944]\n"
     ]
    }
   ],
   "source": [
    "# with using map()\n",
    "def sqr(a):\n",
    "    return a*a\n",
    "x=map(sqr,[2,4,5,57,76,88,788])\n",
    "print(list(x))"
   ]
  },
  {
   "cell_type": "code",
   "execution_count": 5,
   "metadata": {},
   "outputs": [
    {
     "name": "stdout",
     "output_type": "stream",
     "text": [
      "<class 'map'>\n",
      "[4, 655, 9, 62, 5511, 92, 852]\n"
     ]
    }
   ],
   "source": [
    "def sqr(a,b):\n",
    "    return a+b\n",
    "x=map(sqr,[2,4,5,57,76,88,788],[2,651,4,5,5435,4,64,6643,6,6])\n",
    "print(type(x))\n",
    "print(list(x))"
   ]
  },
  {
   "cell_type": "markdown",
   "metadata": {},
   "source": [
    "# 2.Lambda Functions\n",
    "\n",
    "its not the name, its a keyword\n",
    "\n",
    "provided as input to other functions\n",
    "\n",
    "syntaax:\n",
    "\n",
    "    lambda arguments: expresions"
   ]
  },
  {
   "cell_type": "code",
   "execution_count": 7,
   "metadata": {},
   "outputs": [
    {
     "name": "stdout",
     "output_type": "stream",
     "text": [
      "5\n"
     ]
    },
    {
     "data": {
      "text/plain": [
       "25"
      ]
     },
     "execution_count": 7,
     "metadata": {},
     "output_type": "execute_result"
    }
   ],
   "source": [
    "n=int(input())\n",
    "a=lambda y:y**2\n",
    "a(n)\n"
   ]
  },
  {
   "cell_type": "code",
   "execution_count": 12,
   "metadata": {},
   "outputs": [
    {
     "name": "stdout",
     "output_type": "stream",
     "text": [
      "12\n"
     ]
    }
   ],
   "source": [
    "def a(n):\n",
    "    return lambda m:n+m\n",
    "t=a(6)\n",
    "print(t(6))"
   ]
  },
  {
   "cell_type": "markdown",
   "metadata": {},
   "source": [
    "### Question no. 2"
   ]
  },
  {
   "cell_type": "code",
   "execution_count": 15,
   "metadata": {},
   "outputs": [
    {
     "name": "stdout",
     "output_type": "stream",
     "text": [
      "DRINKCODEEAT\n",
      "Number of Holes in Input String is\n",
      " 5\n"
     ]
    }
   ],
   "source": [
    "def hole():   \n",
    "    s=[\"A\",\"B\",\"D\",\"O\",\"P\",\"Q\",\"R\",\"a\",\"e\",\"b\",\"d\",\"g\",\"o\",\"p\",\"q\"]\n",
    "    l1=[]\n",
    "    l1=input()\n",
    "    h=0\n",
    "    for i in l1:\n",
    "        if i in s:\n",
    "            if i==\"B\":\n",
    "                h=h+2\n",
    "            elif i in s:\n",
    "                h=h+1\n",
    "    print(\"Number of Holes in Input String is\\n\",h)\n",
    "hole()"
   ]
  },
  {
   "cell_type": "code",
   "execution_count": 16,
   "metadata": {},
   "outputs": [
    {
     "name": "stdout",
     "output_type": "stream",
     "text": [
      "LetsUpgrade is the Best\n",
      "Number of Holes in Input String is\n",
      " 10\n"
     ]
    }
   ],
   "source": [
    "hole()"
   ]
  },
  {
   "cell_type": "code",
   "execution_count": 17,
   "metadata": {},
   "outputs": [
    {
     "name": "stdout",
     "output_type": "stream",
     "text": [
      "Enjoying with python\n",
      "Number of Holes in Input String is\n",
      " 4\n"
     ]
    }
   ],
   "source": [
    "hole()"
   ]
  },
  {
   "cell_type": "code",
   "execution_count": null,
   "metadata": {},
   "outputs": [],
   "source": []
  }
 ],
 "metadata": {
  "kernelspec": {
   "display_name": "Python 3",
   "language": "python",
   "name": "python3"
  },
  "language_info": {
   "codemirror_mode": {
    "name": "ipython",
    "version": 3
   },
   "file_extension": ".py",
   "mimetype": "text/x-python",
   "name": "python",
   "nbconvert_exporter": "python",
   "pygments_lexer": "ipython3",
   "version": "3.7.6"
  }
 },
 "nbformat": 4,
 "nbformat_minor": 4
}
