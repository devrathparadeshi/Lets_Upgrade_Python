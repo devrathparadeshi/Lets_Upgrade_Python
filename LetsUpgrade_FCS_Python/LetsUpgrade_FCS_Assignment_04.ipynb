{
 "cells": [
  {
   "cell_type": "markdown",
   "metadata": {},
   "source": [
    "# Assgnment no. 04"
   ]
  },
  {
   "cell_type": "code",
   "execution_count": 12,
   "metadata": {},
   "outputs": [
    {
     "name": "stdout",
     "output_type": "stream",
     "text": [
      "1\n",
      "[2, 3, 4, 5, 6, 7, 8]\n"
     ]
    }
   ],
   "source": [
    "l=[1,2,3,4,5,6,7,8]\n",
    "print(l[0])\n",
    "l.pop(0)\n",
    "print(l)"
   ]
  },
  {
   "cell_type": "code",
   "execution_count": 8,
   "metadata": {},
   "outputs": [
    {
     "name": "stdout",
     "output_type": "stream",
     "text": [
      "Enter the number of Elements6\n",
      "Enter the List1\n",
      "Enter the List2\n",
      "Enter the List1\n",
      "Enter the List5\n",
      "Enter the List6\n",
      "Enter the List9\n",
      "The user input is:   [1, 2, 1, 5, 6, 9]\n",
      "The Check Sublist is:  [1, 1, 5]\n",
      "Its a match\n"
     ]
    }
   ],
   "source": [
    "#Check The List in serial order with Sublist\n",
    "l1=[]\n",
    "n=int(input(\"Enter the number of Elements\"))\n",
    "for i in range(0,n):\n",
    "    e=int(input(\"Enter the List\"))\n",
    "    l1.append(e)\n",
    "print(\"The user input is:  \",l1)\n",
    "subl1=[1,1,5]\n",
    "print(\"The Check Sublist is: \",subl1)\n",
    "for i in range(0,n):\n",
    "        if(l1[i] == subl1[0]):\n",
    "            subl1.pop(0)\n",
    "        if(len(subl1) == 0):\n",
    "            break\n",
    "if(len(subl1) == 0 ):\n",
    "    print(\"Its a match\")\n",
    "else:\n",
    "    print(\"Its not a match\")\n",
    "    "
   ]
  },
  {
   "cell_type": "code",
   "execution_count": 6,
   "metadata": {},
   "outputs": [
    {
     "name": "stdout",
     "output_type": "stream",
     "text": [
      "Enter the number of Elements5\n",
      "Enter the List1\n",
      "Enter the List2\n",
      "Enter the List5\n",
      "Enter the List1\n",
      "Enter the List6\n",
      "The user input is:   [1, 2, 5, 1, 6]\n",
      "The Check Sublist is:  [1, 1, 5]\n",
      "Its not a match\n"
     ]
    }
   ],
   "source": [
    "l1=[]\n",
    "n=int(input(\"Enter the number of Elements\"))\n",
    "for i in range(0,n):\n",
    "    e=int(input(\"Enter the List\"))\n",
    "    l1.append(e)\n",
    "print(\"The user input is:  \",l1)\n",
    "subl1=[1,1,5]\n",
    "print(\"The Check Sublist is: \",subl1)\n",
    "for i in range(0,n):\n",
    "        if(l1[i] == subl1[0]):\n",
    "            subl1.pop(0)\n",
    "        if(len(subl1) == 0):\n",
    "            break\n",
    "if(len(subl1) == 0 ):\n",
    "    print(\"Its a match\")\n",
    "else:\n",
    "    print(\"Its not a match\")\n",
    "    "
   ]
  },
  {
   "cell_type": "code",
   "execution_count": null,
   "metadata": {},
   "outputs": [],
   "source": []
  }
 ],
 "metadata": {
  "kernelspec": {
   "display_name": "Python 3",
   "language": "python",
   "name": "python3"
  },
  "language_info": {
   "codemirror_mode": {
    "name": "ipython",
    "version": 3
   },
   "file_extension": ".py",
   "mimetype": "text/x-python",
   "name": "python",
   "nbconvert_exporter": "python",
   "pygments_lexer": "ipython3",
   "version": "3.7.6"
  }
 },
 "nbformat": 4,
 "nbformat_minor": 4
}
