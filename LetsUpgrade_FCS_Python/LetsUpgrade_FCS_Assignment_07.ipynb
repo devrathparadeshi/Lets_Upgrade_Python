{
 "cells": [
  {
   "cell_type": "markdown",
   "metadata": {},
   "source": [
    " map(),lamba() are the inbuilt functions of python.\n",
    " "
   ]
  },
  {
   "cell_type": "markdown",
   "metadata": {},
   "source": [
    "# 1. map()-\n",
    "syntax:\n",
    "\n",
    "    map(func,iterables)\n",
    "    \n",
    "    \n",
    "   \n",
    "map() function returns a map object(which is an iterator) of the results after applying the given function to each item of a given iterable (list, tuple etc."
   ]
  },
  {
   "cell_type": "code",
   "execution_count": 1,
   "metadata": {},
   "outputs": [
    {
     "name": "stdout",
     "output_type": "stream",
     "text": [
      "400\n"
     ]
    }
   ],
   "source": [
    "# without using map()\n",
    "def sqr(a):\n",
    "    return a*a\n",
    "x=sqr(20)\n",
    "print(x)"
   ]
  },
  {
   "cell_type": "code",
   "execution_count": 4,
   "metadata": {},
   "outputs": [
    {
     "name": "stdout",
     "output_type": "stream",
     "text": [
      "[4, 16, 25, 3249, 5776, 7744, 620944]\n"
     ]
    }
   ],
   "source": [
    "# with using map()\n",
    "def sqr(a):\n",
    "    return a*a\n",
    "x=map(sqr,[2,4,5,57,76,88,788])\n",
    "print(list(x))"
   ]
  },
  {
   "cell_type": "code",
   "execution_count": 5,
   "metadata": {},
   "outputs": [
    {
     "name": "stdout",
     "output_type": "stream",
     "text": [
      "<class 'map'>\n",
      "[4, 655, 9, 62, 5511, 92, 852]\n"
     ]
    }
   ],
   "source": [
    "def sqr(a,b):\n",
    "    return a+b\n",
    "x=map(sqr,[2,4,5,57,76,88,788],[2,651,4,5,5435,4,64,6643,6,6])\n",
    "print(type(x))\n",
    "print(list(x))"
   ]
  },
  {
   "cell_type": "markdown",
   "metadata": {},
   "source": [
    "# 2.Lambda Functions\n",
    "\n",
    "its not the name, its a keyword\n",
    "\n",
    "provided as input to other functions\n",
    "\n",
    "syntaax:\n",
    "\n",
    "    lambda arguments: expresions"
   ]
  },
  {
   "cell_type": "code",
   "execution_count": 7,
   "metadata": {},
   "outputs": [
    {
     "name": "stdout",
     "output_type": "stream",
     "text": [
      "5\n"
     ]
    },
    {
     "data": {
      "text/plain": [
       "25"
      ]
     },
     "execution_count": 7,
     "metadata": {},
     "output_type": "execute_result"
    }
   ],
   "source": [
    "n=int(input())\n",
    "a=lambda y:y**2\n",
    "a(n)\n"
   ]
  },
  {
   "cell_type": "code",
   "execution_count": 12,
   "metadata": {},
   "outputs": [
    {
     "name": "stdout",
     "output_type": "stream",
     "text": [
      "12\n"
     ]
    }
   ],
   "source": [
    "def a(n):\n",
    "    return lambda m:n+m\n",
    "t=a(6)\n",
    "print(t(6))"
   ]
  },
  {
   "cell_type": "code",
   "execution_count": 1,
   "metadata": {},
   "outputs": [
    {
     "data": {
      "text/plain": [
       "[4, 5, 7, 6, 67, 9, 9]"
      ]
     },
     "execution_count": 1,
     "metadata": {},
     "output_type": "execute_result"
    }
   ],
   "source": [
    "l=[2,3,5,4,65,7,7]\n",
    "list(map(lambda x:x+2,l))\n"
   ]
  },
  {
   "cell_type": "markdown",
   "metadata": {},
   "source": [
    "# filter()\n",
    "\n",
    "    The filter() method filters the given sequence with the help of \n",
    "    a function that tests each element in the sequence to be true or not.\n",
    "    \n",
    "    \n",
    "syntax :\n",
    "    filter(fun,iter)"
   ]
  },
  {
   "cell_type": "code",
   "execution_count": 4,
   "metadata": {},
   "outputs": [
    {
     "name": "stdout",
     "output_type": "stream",
     "text": [
      "[7, 8, 9]\n"
     ]
    }
   ],
   "source": [
    "def a(b):\n",
    "    if b>=7:\n",
    "        return b\n",
    "l=[1,2,3,4,5,6,7,8,9]\n",
    "x=filter(a,l)\n",
    "print(list(x))\n",
    "\n",
    "\n",
    "\n",
    "\n"
   ]
  },
  {
   "cell_type": "code",
   "execution_count": 7,
   "metadata": {},
   "outputs": [
    {
     "name": "stdout",
     "output_type": "stream",
     "text": [
      "[1, 2, 3, 4, 5, 6, 7, 8]\n"
     ]
    }
   ],
   "source": [
    "l=[1,2,3,4,5,6,7,8,9]\n",
    "print(list(filter(lambda x:x<=8,l)))"
   ]
  },
  {
   "cell_type": "markdown",
   "metadata": {},
   "source": [
    "# reduce()\n",
    "\n",
    "        The reduce(fun,seq) function is used to apply a particular function passed in its argument to all of the list elements mentioned in the sequence passed along.This function is defined in “functools” module.\n",
    "        \n",
    " syntax:\n",
    "  reduce(func,itr)"
   ]
  },
  {
   "cell_type": "code",
   "execution_count": 11,
   "metadata": {},
   "outputs": [
    {
     "name": "stdout",
     "output_type": "stream",
     "text": [
      "45\n"
     ]
    }
   ],
   "source": [
    "from functools import reduce\n",
    "def a(x,y):\n",
    "    return x+y\n",
    "m=reduce(a,l)\n",
    "print(m)"
   ]
  },
  {
   "cell_type": "code",
   "execution_count": 13,
   "metadata": {},
   "outputs": [
    {
     "name": "stdout",
     "output_type": "stream",
     "text": [
      "[25, 36, 49, 64, 81]\n"
     ]
    }
   ],
   "source": [
    "x=map(lambda x:x*x,filter(lambda x:x>4,l))\n",
    "print(list(x))"
   ]
  },
  {
   "cell_type": "code",
   "execution_count": 19,
   "metadata": {},
   "outputs": [
    {
     "name": "stdout",
     "output_type": "stream",
     "text": [
      "[1, 16, 81]\n"
     ]
    }
   ],
   "source": [
    "x=print(list(filter(lambda x:x<100,map(lambda x:x**4,l))))"
   ]
  },
  {
   "cell_type": "markdown",
   "metadata": {},
   "source": [
    "# QUESTION 02\n"
   ]
  },
  {
   "cell_type": "code",
   "execution_count": 38,
   "metadata": {},
   "outputs": [
    {
     "name": "stdout",
     "output_type": "stream",
     "text": [
      "Enter the number:  7899\n",
      "The Sum Of input number is:   6\n"
     ]
    }
   ],
   "source": [
    "n=int(input(\"Enter the number:  \"))\n",
    "if n==0:\n",
    "    print(\"The Sum Of input number is:  0\")\n",
    "elif n%9==0:\n",
    "    print(\"The Sum Of input number is:  9\")\n",
    "else:\n",
    "    a=n%9\n",
    "    print(\"The Sum Of input number is:  \",a)\n",
    "    "
   ]
  },
  {
   "cell_type": "code",
   "execution_count": null,
   "metadata": {},
   "outputs": [],
   "source": []
  }
 ],
 "metadata": {
  "kernelspec": {
   "display_name": "Python 3",
   "language": "python",
   "name": "python3"
  },
  "language_info": {
   "codemirror_mode": {
    "name": "ipython",
    "version": 3
   },
   "file_extension": ".py",
   "mimetype": "text/x-python",
   "name": "python",
   "nbconvert_exporter": "python",
   "pygments_lexer": "ipython3",
   "version": "3.7.6"
  }
 },
 "nbformat": 4,
 "nbformat_minor": 4
}
