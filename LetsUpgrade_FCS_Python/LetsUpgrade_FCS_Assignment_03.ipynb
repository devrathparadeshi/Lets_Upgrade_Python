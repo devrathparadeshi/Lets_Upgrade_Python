{
 "cells": [
  {
   "cell_type": "markdown",
   "metadata": {},
   "source": [
    "# Assignment no 3 \n",
    "Prblem 01\n",
    "    >> Marks>=80 = A\n",
    "    \n",
    "    >> 79<Marks<=65 =B\n",
    "    \n",
    "    >> 64<Marks<=50 =C\n",
    "    \n",
    "    >> 49<Marks<=35 =D\n",
    "    \n",
    "    >> Marks<=34 =Fail"
   ]
  },
  {
   "cell_type": "code",
   "execution_count": 2,
   "metadata": {},
   "outputs": [
    {
     "name": "stdout",
     "output_type": "stream",
     "text": [
      "Enter your marks:  94\n",
      "MArks Obtained: 94\n",
      "Grade : A\n",
      "\n",
      "\n",
      " End\n"
     ]
    }
   ],
   "source": [
    "marks=int(input(\"Enter your marks:  \"))\n",
    "print(\"MArks Obtained:\",marks)\n",
    "if marks>=80:\n",
    "    print(\"Grade : A\")\n",
    "elif marks<=79 and marks>=65:\n",
    "    print(\"Grade : B\")\n",
    "elif marks<=64 and marks>=50:\n",
    "    print(\"Grade : C\")\n",
    "elif marks<=49 and marks>=35:\n",
    "    print(\"Grade : D\")\n",
    "else:\n",
    "    print(\"You are Fail\")\n",
    "print(\"\\n\\n End\")\n"
   ]
  },
  {
   "cell_type": "code",
   "execution_count": 3,
   "metadata": {},
   "outputs": [
    {
     "name": "stdout",
     "output_type": "stream",
     "text": [
      "Enter your marks:  63\n",
      "MArks Obtained: 63\n",
      "Grade : C\n",
      "\n",
      "\n",
      " End\n"
     ]
    }
   ],
   "source": [
    "marks=int(input(\"Enter your marks:  \"))\n",
    "print(\"MArks Obtained:\",marks)\n",
    "if marks>=80:\n",
    "    print(\"Grade : A\")\n",
    "elif marks<=79 and marks>=65:\n",
    "    print(\"Grade : B\")\n",
    "elif marks<=64 and marks>=50:\n",
    "    print(\"Grade : C\")\n",
    "elif marks<=49 and marks>=35:\n",
    "    print(\"Grade : D\")\n",
    "else:\n",
    "    print(\"You are Fail\")\n",
    "print(\"\\n\\n End\")\n"
   ]
  },
  {
   "cell_type": "code",
   "execution_count": 4,
   "metadata": {},
   "outputs": [
    {
     "name": "stdout",
     "output_type": "stream",
     "text": [
      "Enter your marks:  72\n",
      "MArks Obtained: 72\n",
      "Grade : B\n",
      "\n",
      "\n",
      " End\n"
     ]
    }
   ],
   "source": [
    "marks=int(input(\"Enter your marks:  \"))\n",
    "print(\"MArks Obtained:\",marks)\n",
    "if marks>=80:\n",
    "    print(\"Grade : A\")\n",
    "elif marks<=79 and marks>=65:\n",
    "    print(\"Grade : B\")\n",
    "elif marks<=64 and marks>=50:\n",
    "    print(\"Grade : C\")\n",
    "elif marks<=49 and marks>=35:\n",
    "    print(\"Grade : D\")\n",
    "else:\n",
    "    print(\"You are Fail\")\n",
    "print(\"\\n\\n End\")\n"
   ]
  },
  {
   "cell_type": "code",
   "execution_count": 6,
   "metadata": {},
   "outputs": [
    {
     "name": "stdout",
     "output_type": "stream",
     "text": [
      "Enter your marks:  75\n",
      "MArks Obtained: 75\n",
      "Grade : B\n",
      "\n",
      "\n",
      " End\n"
     ]
    }
   ],
   "source": [
    "marks=int(input(\"Enter your marks:  \"))\n",
    "print(\"MArks Obtained:\",marks)\n",
    "if marks>=80:\n",
    "    print(\"Grade : A\")\n",
    "elif marks<=79 and marks>=65:\n",
    "    print(\"Grade : B\")\n",
    "elif marks<=64 and marks>=50:\n",
    "    print(\"Grade : C\")\n",
    "elif marks<=49 and marks>=35:\n",
    "    print(\"Grade : D\")\n",
    "else:\n",
    "    print(\"You are Fail\")\n",
    "print(\"\\n\\n End\")\n"
   ]
  },
  {
   "cell_type": "markdown",
   "metadata": {},
   "source": [
    "\n",
    "# 2. Cricket Guess Game"
   ]
  },
  {
   "cell_type": "code",
   "execution_count": 7,
   "metadata": {},
   "outputs": [
    {
     "name": "stdout",
     "output_type": "stream",
     "text": [
      "Enter the Guess Score:  55\n",
      "The Score is 29.499088139488837\n",
      "You don't watch matches.\n"
     ]
    }
   ],
   "source": [
    "s=int(input(\"Enter the Guess Score:  \"))\n",
    "if s>=250 or s<=1:\n",
    "    print(\"Reduce your expectation for 20-20 Cricket.\")\n",
    "else:\n",
    "    import random\n",
    "    r=random.uniform(1,250)\n",
    "    print(\"The Score is\",r)\n",
    "    a=int(abs(r-s))\n",
    "    if a<=10:\n",
    "        print(\"You are true fan of INDIA.\")\n",
    "    else:\n",
    "        print(\"You don't watch matches.\")"
   ]
  },
  {
   "cell_type": "code",
   "execution_count": 8,
   "metadata": {},
   "outputs": [
    {
     "name": "stdout",
     "output_type": "stream",
     "text": [
      "Enter the Guess Score:  998\n",
      "Reduce your expectation for 20-20 Cricket.\n"
     ]
    }
   ],
   "source": [
    "s=int(input(\"Enter the Guess Score:  \"))\n",
    "if s>=250 or s<=1:\n",
    "    print(\"Reduce your expectation for 20-20 Cricket.\")\n",
    "else:\n",
    "    import random\n",
    "    r=random.uniform(1,250)\n",
    "    print(\"The Score is\",r)\n",
    "    a=int(abs(r-s))\n",
    "    if a<=10:\n",
    "        print(\"You are true fan of INDIA.\")\n",
    "    else:\n",
    "        print(\"You don't watch matches.\")"
   ]
  },
  {
   "cell_type": "code",
   "execution_count": 9,
   "metadata": {},
   "outputs": [
    {
     "name": "stdout",
     "output_type": "stream",
     "text": [
      "Enter the Guess Score:  154\n",
      "The Score is 216.58401095416346\n",
      "You don't watch matches.\n"
     ]
    }
   ],
   "source": [
    "s=int(input(\"Enter the Guess Score:  \"))\n",
    "if s>=250 or s<=1:\n",
    "    print(\"Reduce your expectation for 20-20 Cricket.\")\n",
    "else:\n",
    "    import random\n",
    "    r=random.uniform(1,250)\n",
    "    print(\"The Score is\",r)\n",
    "    a=int(abs(r-s))\n",
    "    if a<=10:\n",
    "        print(\"You are true fan of INDIA.\")\n",
    "    else:\n",
    "        print(\"You don't watch matches.\")"
   ]
  },
  {
   "cell_type": "code",
   "execution_count": 10,
   "metadata": {},
   "outputs": [
    {
     "name": "stdout",
     "output_type": "stream",
     "text": [
      "Enter the Guess Score:  222\n",
      "The Score is 141.3787465393169\n",
      "You don't watch matches.\n"
     ]
    }
   ],
   "source": [
    "s=int(input(\"Enter the Guess Score:  \"))\n",
    "if s>=250 or s<=1:\n",
    "    print(\"Reduce your expectation for 20-20 Cricket.\")\n",
    "else:\n",
    "    import random\n",
    "    r=random.uniform(1,250)\n",
    "    print(\"The Score is\",r)\n",
    "    a=int(abs(r-s))\n",
    "    if a<=10:\n",
    "        print(\"You are true fan of INDIA.\")\n",
    "    else:\n",
    "        print(\"You don't watch matches.\")"
   ]
  },
  {
   "cell_type": "code",
   "execution_count": 11,
   "metadata": {},
   "outputs": [
    {
     "name": "stdout",
     "output_type": "stream",
     "text": [
      "Enter the Guess Score:  125\n",
      "The Score is 137.4970893831374\n",
      "You don't watch matches.\n"
     ]
    }
   ],
   "source": [
    "s=int(input(\"Enter the Guess Score:  \"))\n",
    "if s>=250 or s<=1:\n",
    "    print(\"Reduce your expectation for 20-20 Cricket.\")\n",
    "else:\n",
    "    import random\n",
    "    r=random.uniform(1,250)\n",
    "    print(\"The Score is\",r)\n",
    "    a=int(abs(r-s))\n",
    "    if a<=10:\n",
    "        print(\"You are true fan of INDIA.\")\n",
    "    else:\n",
    "        print(\"You don't watch matches.\")"
   ]
  },
  {
   "cell_type": "code",
   "execution_count": 12,
   "metadata": {},
   "outputs": [
    {
     "name": "stdout",
     "output_type": "stream",
     "text": [
      "Enter the Guess Score:  212\n",
      "The Score is 68.2092120013656\n",
      "You don't watch matches.\n"
     ]
    }
   ],
   "source": [
    "s=int(input(\"Enter the Guess Score:  \"))\n",
    "if s>=250 or s<=1:\n",
    "    print(\"Reduce your expectation for 20-20 Cricket.\")\n",
    "else:\n",
    "    import random\n",
    "    r=random.uniform(1,250)\n",
    "    print(\"The Score is\",r)\n",
    "    a=int(abs(r-s))\n",
    "    if a<=10:\n",
    "        print(\"You are true fan of INDIA.\")\n",
    "    else:\n",
    "        print(\"You don't watch matches.\")"
   ]
  },
  {
   "cell_type": "code",
   "execution_count": 13,
   "metadata": {},
   "outputs": [
    {
     "name": "stdout",
     "output_type": "stream",
     "text": [
      "Enter the Guess Score:  64\n",
      "The Score is 156.0493498579427\n",
      "You don't watch matches.\n"
     ]
    }
   ],
   "source": [
    "s=int(input(\"Enter the Guess Score:  \"))\n",
    "if s>=250 or s<=1:\n",
    "    print(\"Reduce your expectation for 20-20 Cricket.\")\n",
    "else:\n",
    "    import random\n",
    "    r=random.uniform(1,250)\n",
    "    print(\"The Score is\",r)\n",
    "    a=int(abs(r-s))\n",
    "    if a<=10:\n",
    "        print(\"You are true fan of INDIA.\")\n",
    "    else:\n",
    "        print(\"You don't watch matches.\")"
   ]
  },
  {
   "cell_type": "code",
   "execution_count": 14,
   "metadata": {},
   "outputs": [
    {
     "name": "stdout",
     "output_type": "stream",
     "text": [
      "Enter the Guess Score:  215\n",
      "The Score is 214.98847999719138\n",
      "You are true fan of INDIA.\n"
     ]
    }
   ],
   "source": [
    "s=int(input(\"Enter the Guess Score:  \"))\n",
    "if s>=250 or s<=1:\n",
    "    print(\"Reduce your expectation for 20-20 Cricket.\")\n",
    "else:\n",
    "    import random\n",
    "    r=random.uniform(1,250)\n",
    "    print(\"The Score is\",r)\n",
    "    a=int(abs(r-s))\n",
    "    if a<=10:\n",
    "        print(\"You are true fan of INDIA.\")\n",
    "    else:\n",
    "        print(\"You don't watch matches.\")"
   ]
  },
  {
   "cell_type": "code",
   "execution_count": null,
   "metadata": {},
   "outputs": [],
   "source": []
  }
 ],
 "metadata": {
  "kernelspec": {
   "display_name": "Python 3",
   "language": "python",
   "name": "python3"
  },
  "language_info": {
   "codemirror_mode": {
    "name": "ipython",
    "version": 3
   },
   "file_extension": ".py",
   "mimetype": "text/x-python",
   "name": "python",
   "nbconvert_exporter": "python",
   "pygments_lexer": "ipython3",
   "version": "3.7.6"
  }
 },
 "nbformat": 4,
 "nbformat_minor": 4
}
